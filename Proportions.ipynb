{
  "nbformat": 4,
  "nbformat_minor": 0,
  "metadata": {
    "colab": {
      "provenance": [],
      "collapsed_sections": [
        "1P8f2wqPKvQF",
        "8IdLBX4HcbAg",
        "oNiznYqYMobU",
        "ztpR_6KhpPr4",
        "g9luYFLqkLkV",
        "74IwI1WwjcVU",
        "Lv9zwXs9l2Nd",
        "ufCsVYromLwa",
        "6TvUH2iYmWqG",
        "9qOVmb5_mXO3",
        "jXPDPDKl0pCf",
        "D-CF7cIO0sIr",
        "cMZJEg2Z1LOU",
        "CQLxcv3d1QLV",
        "ZrbTr8xM41yn",
        "HAm4ijxd6ua6",
        "8AAYxLKS64kN",
        "z3BtQY7I7WG2",
        "3ZZwrSUbgt8T",
        "KqLdUi4Titsd",
        "ATQCZfI8iuKT",
        "WijncAsliucU",
        "1saQmW3__D2y",
        "so338-XjSX5T",
        "k92PSBabA45j",
        "_cihb0_rBxck",
        "WeE9i6uDB5Yk",
        "20tnV41pB6Yf",
        "nS1657qOB7Ww",
        "viPgVb_RPMkl",
        "dSmUVD8RRITk",
        "LFHgGF98wqDl",
        "M999x3qr4KHh",
        "vP04JsSw3LkR",
        "vWwlXkn13ih5",
        "I9qa8E0FVpIz",
        "-zswcWrBW-HY"
      ]
    },
    "kernelspec": {
      "name": "python3",
      "display_name": "Python 3"
    },
    "language_info": {
      "name": "python"
    }
  },
  "cells": [
    {
      "cell_type": "markdown",
      "source": [
        "# $\\textbf{Proportion Tests}$"
      ],
      "metadata": {
        "id": "1P8f2wqPKvQF"
      }
    },
    {
      "cell_type": "markdown",
      "source": [
        "## $\\textbf{One sample Proportion Test}$"
      ],
      "metadata": {
        "id": "8IdLBX4HcbAg"
      }
    },
    {
      "cell_type": "markdown",
      "source": [
        "source: https://www.ncss.com/wp-content/themes/ncss/pdf/Procedures/PASS/Tests_for_One_Proportion.pdf, https://www.ncss.com/wp-content/themes/ncss/pdf/Procedures/NCSS/One_Proportion-Equivalence_Tests.pdf"
      ],
      "metadata": {
        "id": "X2_FvjSlcgqG"
      }
    },
    {
      "cell_type": "markdown",
      "source": [
        "$\\textbf{Purpose}$: The One-Sample Proportion Test is used to assess whether a population proportion $(P_{1})$ is significantly\n",
        "different from a hypothesized value  $(P_{0})$.\n",
        "\n",
        "$\\textbf{Assumptions}$:\n",
        "* Binomial distribution ($P(X_{i}) = const$, $P(\\bar{X_{i}}) = 1 - P(X_{i})$, $X_{i} \\in \\{0,1\\}$)\n",
        "* The population's proportion, $P_{0}$, is known.\n",
        "\n",
        "$\\textbf{Required Data}$:\n",
        "* $p$- Sample proportion or x number of successes.\n",
        "* $n$ - Sample size"
      ],
      "metadata": {
        "id": "yyfBAa5IbQk3"
      }
    },
    {
      "cell_type": "markdown",
      "source": [
        "$\\textbf{Proportions}$ can be represented in following ways:\n",
        "1. $\\textbf{Exact values}$ ($P_{1}$ and $P_{0}$)\n",
        "2. $\\textbf{Difference}$ ( $\\delta$ = $P_{1} - P_{0}$)\n",
        "3. $\\textbf{Ratio}$ ($\\phi$ = $\\frac{P_{1}}{P_{0}}$)\n",
        "4. $\\textbf{Odds ratio}$ ($\\psi$ = $\\frac{O_{1}}{O_{0}}$=$\\frac{P_{1}/(1-P_{1})}{P_{0}/(1-P_{0})}$)"
      ],
      "metadata": {
        "id": "povFMHzR_6FI"
      }
    },
    {
      "cell_type": "markdown",
      "source": [
        "### $\\textbf{Test statistics}$"
      ],
      "metadata": {
        "id": "i5ztaLptkdVm"
      }
    },
    {
      "cell_type": "markdown",
      "source": [
        "$\\textbf{Test statistics}$:\n",
        "\n",
        "1. $\\textbf{Exact tests}$\n",
        "  * The test statistic is $r$, the number of successes in $n$ trials. (Binomial/Hypergeometrical distributions)\n",
        "  * The $\\alpha$ and $\\beta$ are computed by enumerating the possible values of $r$, computing the probability of each value, and then computing the corresponding value of the test statistic\n",
        "2.  $\\textbf{Z-Tests}$\n",
        "  * All rely on CLT $\\rightarrow$ statistic $\\sim \\mathbb{N}(\\mu,\\sigma^{2})$\n",
        "  * $z = \\frac{p-P_{0}}{SE}$, where $p$ = $\\frac{r}{n}$, $P_{0}$ - estimated portion, $SE$ - Standart Error\n",
        "  * $SE$ can be calculated in 4 forms:\n",
        "    1. Utilizes ${P_0}$; $SE = \\sqrt{\\frac{P_{0}(1-P_{0})}{n}}$\n",
        "    2. Utilizes $p$; $SE = \\sqrt{\\frac{p(1-p)}{n}}$\n",
        "    3. Utilizes ${P_0}$ + Continuity Correctio; $SE = \\sqrt{\\frac{P_{0}(1-P_{0}) + c}{n}}$\n",
        "    4. Utilizes $p$ + Continuity Correction;$SE =\\sqrt{\\frac{p(1-p) + c}{n}}$\n"
      ],
      "metadata": {
        "id": "RmoCtJLmB5Ih"
      }
    },
    {
      "cell_type": "markdown",
      "source": [
        "  $c = \\begin{cases}\n",
        "  \\frac{-1}{2n} & \\quad \\text{if } p > P_{0}\\\\\n",
        "  \\frac{1}{2n} & \\quad \\text{if } p < P_{0}\\\\\n",
        "  0  & \\quad \\text{if } |p - P_{0}| < \\frac{1}{2n}\n",
        "  \\end{cases}$"
      ],
      "metadata": {
        "id": "3u0f68GVKc7H"
      }
    },
    {
      "cell_type": "markdown",
      "source": [
        "### $\\textbf{Power calculation}$:"
      ],
      "metadata": {
        "id": "oNiznYqYMobU"
      }
    },
    {
      "cell_type": "markdown",
      "source": [
        "#### $\\textbf{Binomial Enumeration of All Possible Outcomes}$:"
      ],
      "metadata": {
        "id": "ztpR_6KhpPr4"
      }
    },
    {
      "cell_type": "markdown",
      "source": [
        "1. $\\textbf{State the Hypotheses}$:\n",
        "\n",
        "* $H_{0}$: $P$ = $P_{0}$ versus $H_{1}$: $P$ = $P_{1} \\neq P_{0}$\n",
        "* $H_{0}$: $P \\leq P_{0}$ versus $H_{1}$: $P$ > $P_{1} > P_{0}$\n",
        "* $H_{0}$: $P \\geq P_{0}$ versus $H_{1}$: $P$ = $P_{1} < P_{0}$\n",
        "\n",
        "2. $\\textbf{Find the critical value}$:\n",
        "\n",
        "  For an upper-tailed test with a given sample size find the critical value, $P_{c}$, based on the binomial (or\n",
        "hypergeometric) distribution, so that the probability of rejecting $H_{0}$ when $H_{0}$ is true is equal to a specified significance level, $\\alpha$.\n",
        "\n",
        "3. $\\textbf{Evaluate the Sample}$:\n",
        "\n",
        "  Select a sample of $n$ items from the population and compute the sample proportion, $p = \\frac{r}{n}$. If $p > P_{c}$ then\n",
        "reject the null hypothesis that $P = P_{0}$ in favor of an alternative hypothesis that $P = P_{1} > P_{0}$.\n",
        "\n",
        "4. $\\textbf{Calculate the Power}$:\n",
        "\n",
        "  The power is the probability of rejecting $H_{0}$ when the true proportion is $P_{1}$. That is, the power is the\n",
        "probability that $p > P_{c}$ calculated from a binomial (or hypergeometric) distribution in which $P = P_{1}$.\n",
        "Similar steps are used for the lower-tail and two-tailed tests."
      ],
      "metadata": {
        "id": "jiKyG7KmpXgP"
      }
    },
    {
      "cell_type": "markdown",
      "source": [
        "#### 1. $\\textbf{Exact tests}$"
      ],
      "metadata": {
        "id": "g9luYFLqkLkV"
      }
    },
    {
      "cell_type": "markdown",
      "source": [
        "$FPC = (N-n)(N-1)$ if the population size, $N$, is finite, otherwise 1"
      ],
      "metadata": {
        "id": "qTlKWQC0nyaO"
      }
    },
    {
      "cell_type": "markdown",
      "source": [
        "$\\textbf{Two-sided hypothesis test}$:\n",
        "\n",
        "$\\begin{cases}\n",
        "H_{0}: p = P_{0}\\\\\n",
        "H_{1}: p \\neq P_{0}\\\\\n",
        "\\end{cases}$\n",
        "\n",
        "Power = $\\varPhi(\\frac{\\sqrt{n}(P_{0}-P_{1}) - z_{α/2}\\sqrt{P_{0}(1-P_{0})FPC}}{\\sqrt{P_{1}(1-P_{1})FPC}}) + 1 - \\varPhi(\\frac{\\sqrt{n}(P_{0}-P_{1}) + z_{α/2}\\sqrt{P_{0}(1-P_{0})FPC}}{\\sqrt{P_{1}(1-P_{1})FPC}})$"
      ],
      "metadata": {
        "id": "DpeBf5rheKMS"
      }
    },
    {
      "cell_type": "markdown",
      "source": [
        "$\\textbf{Lower One-sided hypothesis test}$:\n",
        "\n",
        "$\\begin{cases}\n",
        "H_{0}: p \\geq P_{0}\\\\\n",
        "H_{1}: p < P_{0}\\\\\n",
        "\\end{cases}$\n",
        "\n",
        "Power = $\\varPhi(\\frac{\\sqrt{n}(P_{0}-P_{1}) - z_{α}\\sqrt{P_{0}(1-P_{0})FPC}}{\\sqrt{P_{1}(1-P_{1})FPC}})$"
      ],
      "metadata": {
        "id": "hwVdUE0NhtCO"
      }
    },
    {
      "cell_type": "markdown",
      "source": [
        "$\\textbf{Upper One-sided hypothesis test}$:\n",
        "\n",
        "$\\begin{cases}\n",
        "H_{0}: p \\leq P_{0}\\\\\n",
        "H_{1}: p > P_{0}\\\\\n",
        "\\end{cases}$\n",
        "\n",
        "Power = $1 - \\varPhi(\\frac{\\sqrt{n}(P_{0}-P_{1}) + z_{α}\\sqrt{P_{0}(1-P_{0})FPC}}{\\sqrt{P_{1}(1-P_{1})FPC}})$"
      ],
      "metadata": {
        "id": "xEls555wiX54"
      }
    },
    {
      "cell_type": "markdown",
      "source": [
        "#### 1. $\\textbf{Z-Tests}$"
      ],
      "metadata": {
        "id": "74IwI1WwjcVU"
      }
    },
    {
      "cell_type": "markdown",
      "source": [
        "##### 1.1 $\\textbf{Z-Test using $P_{0}$}$"
      ],
      "metadata": {
        "id": "Lv9zwXs9l2Nd"
      }
    },
    {
      "cell_type": "markdown",
      "source": [
        "$\\textbf{Two-sided hypothesis test}$:\n",
        "\n",
        "$\\begin{cases}\n",
        "H_{0}: p = P_{0}\\\\\n",
        "H_{1}: p \\neq P_{0}\\\\\n",
        "\\end{cases}$\n",
        "\n",
        "Power = $\\varPhi(\\frac{\\sqrt{n}(P_{0}-P_{1}) - z_{α/2}\\sqrt{P_{0}(1-P_{0})}}{\\sqrt{P_{1}(1-P_{1})}}) + 1 - \\varPhi(\\frac{\\sqrt{n}(P_{0}-P_{1}) + z_{α/2}\\sqrt{P_{0}(1-P_{0})}}{\\sqrt{P_{1}(1-P_{1})}})$"
      ],
      "metadata": {
        "id": "J5iFBtXYjegX"
      }
    },
    {
      "cell_type": "markdown",
      "source": [
        "$\\textbf{Lower One-sided hypothesis test}$:\n",
        "\n",
        "$\\begin{cases}\n",
        "H_{0}: p \\geq P_{0}\\\\\n",
        "H_{1}: p < P_{0}\\\\\n",
        "\\end{cases}$\n",
        "\n",
        "Power = $\\varPhi(\\frac{\\sqrt{n}(P_{0}-P_{1}) - z_{α}\\sqrt{P_{0}(1-P_{0})}}{\\sqrt{P_{1}(1-P_{1})}})$"
      ],
      "metadata": {
        "id": "3-W0xNx5jwbo"
      }
    },
    {
      "cell_type": "markdown",
      "source": [
        "$\\textbf{Upper One-sided hypothesis test}$:\n",
        "\n",
        "$\\begin{cases}\n",
        "H_{0}: p \\leq P_{0}\\\\\n",
        "H_{1}: p > P_{0}\\\\\n",
        "\\end{cases}$\n",
        "\n",
        "Power = $1 - \\varPhi(\\frac{\\sqrt{n}(P_{0}-P_{1}) + z_{α}\\sqrt{P_{0}(1-P_{0})}}{\\sqrt{P_{1}(1-P_{1})}})$"
      ],
      "metadata": {
        "id": "PTrRByGCjw3x"
      }
    },
    {
      "cell_type": "markdown",
      "source": [
        "##### 1.2 $\\textbf{Z-Test using $P_{0}$ with Continuity Correction}$"
      ],
      "metadata": {
        "id": "ufCsVYromLwa"
      }
    },
    {
      "cell_type": "markdown",
      "source": [
        "$c = 1/2\\sqrt{n}$ if $|P_{1} - P_{0}|> 1/2n$, otherwise $c=0$"
      ],
      "metadata": {
        "id": "H2BvjYt8nscs"
      }
    },
    {
      "cell_type": "markdown",
      "source": [
        "$\\textbf{Two-sided hypothesis test}$:\n",
        "\n",
        "$\\begin{cases}\n",
        "H_{0}: p = P_{0}\\\\\n",
        "H_{1}: p \\neq P_{0}\\\\\n",
        "\\end{cases}$\n",
        "\n",
        "Power = $\\varPhi(\\frac{\\sqrt{n}(P_{0}-P_{1}) - z_{α/2}\\sqrt{P_{0}(1-P_{0})} - c}{\\sqrt{P_{1}(1-P_{1})}}) + 1 - \\varPhi(\\frac{\\sqrt{n}(P_{0}-P_{1}) + z_{α/2}\\sqrt{P_{0}(1-P_{0})}+ c }{\\sqrt{P_{1}(1-P_{1})}})$"
      ],
      "metadata": {
        "id": "ERoJAYYOmW78"
      }
    },
    {
      "cell_type": "markdown",
      "source": [
        "$\\textbf{Lower One-sided hypothesis test}$:\n",
        "\n",
        "$\\begin{cases}\n",
        "H_{0}: p \\geq P_{0}\\\\\n",
        "H_{1}: p < P_{0}\\\\\n",
        "\\end{cases}$\n",
        "\n",
        "Power = $\\varPhi(\\frac{\\sqrt{n}(P_{0}-P_{1}) - z_{α}\\sqrt{P_{0}(1-P_{0})} - c}{\\sqrt{P_{1}(1-P_{1})}})$"
      ],
      "metadata": {
        "id": "uXwED07omWbl"
      }
    },
    {
      "cell_type": "markdown",
      "source": [
        "$\\textbf{Upper One-sided hypothesis test}$:\n",
        "\n",
        "$\\begin{cases}\n",
        "H_{0}: p \\leq P_{0}\\\\\n",
        "H_{1}: p > P_{0}\\\\\n",
        "\\end{cases}$\n",
        "\n",
        "Power = $1 - \\varPhi(\\frac{\\sqrt{n}(P_{0}-P_{1}) + z_{α}\\sqrt{P_{0}(1-P_{0})}+c}{\\sqrt{P_{1}(1-P_{1})}})$"
      ],
      "metadata": {
        "id": "9vzHjsECnh--"
      }
    },
    {
      "cell_type": "markdown",
      "source": [
        "##### 1.3 $\\textbf{Z-Test using $p$}$"
      ],
      "metadata": {
        "id": "6TvUH2iYmWqG"
      }
    },
    {
      "cell_type": "markdown",
      "source": [
        "$\\textbf{Two-sided hypothesis test}$:\n",
        "\n",
        "$\\begin{cases}\n",
        "H_{0}: p = P_{0}\\\\\n",
        "H_{1}: p \\neq P_{0}\\\\\n",
        "\\end{cases}$\n",
        "\n",
        "Power = $\\varPhi(\\frac{\\sqrt{n}(P_{0}-P_{1}) - z_{α/2}\\sqrt{P_{1}(1-P_{1})}}{\\sqrt{P_{1}(1-P_{1})}}) + 1 - \\varPhi(\\frac{\\sqrt{n}(P_{0}-P_{1}) + z_{α/2}\\sqrt{P_{1}(1-P_{1})}}{\\sqrt{P_{1}(1-P_{1})}})$"
      ],
      "metadata": {
        "id": "vWuPuV19olkL"
      }
    },
    {
      "cell_type": "markdown",
      "source": [
        "$\\textbf{Lower One-sided hypothesis test}$:\n",
        "\n",
        "$\\begin{cases}\n",
        "H_{0}: p \\geq P_{0}\\\\\n",
        "H_{1}: p < P_{0}\\\\\n",
        "\\end{cases}$\n",
        "\n",
        "Power = $\\varPhi(\\frac{\\sqrt{n}(P_{0}-P_{1}) - z_{α}\\sqrt{P_{1}(1-P_{1})}}{\\sqrt{P_{1}(1-P_{1})}})$"
      ],
      "metadata": {
        "id": "BvXxy3z2o3Nu"
      }
    },
    {
      "cell_type": "markdown",
      "source": [
        "$\\textbf{Upper One-sided hypothesis test}$:\n",
        "\n",
        "$\\begin{cases}\n",
        "H_{0}: p \\leq P_{0}\\\\\n",
        "H_{1}: p > P_{0}\\\\\n",
        "\\end{cases}$\n",
        "\n",
        "Power = $1 - \\varPhi(\\frac{\\sqrt{n}(P_{0}-P_{1}) + z_{α}\\sqrt{P_{1}(1-P_{1})}}{\\sqrt{P_{1}(1-P_{1})}})$"
      ],
      "metadata": {
        "id": "DNc6mGkTo6Mp"
      }
    },
    {
      "cell_type": "markdown",
      "source": [
        "##### 1.4 $\\textbf{Z-Test using $p$ with Continuity Correction}$"
      ],
      "metadata": {
        "id": "9qOVmb5_mXO3"
      }
    },
    {
      "cell_type": "markdown",
      "source": [
        "$c = 1/2\\sqrt{n}$ if $|P_{1} - P_{0}|> 1/2n$, otherwise $c=0$"
      ],
      "metadata": {
        "id": "waR9vVnToF8P"
      }
    },
    {
      "cell_type": "markdown",
      "source": [
        "$\\textbf{Two-sided hypothesis test}$:\n",
        "\n",
        "$\\begin{cases}\n",
        "H_{0}: p = P_{0}\\\\\n",
        "H_{1}: p \\neq P_{0}\\\\\n",
        "\\end{cases}$\n",
        "\n",
        "Power = $\\varPhi(\\frac{\\sqrt{n}(P_{0}-P_{1}) - z_{α/2}\\sqrt{P_{1}(1-P_{1})} - c}{\\sqrt{P_{1}(1-P_{1})}}) + 1 - \\varPhi(\\frac{\\sqrt{n}(P_{0}-P_{1}) + z_{α/2}\\sqrt{P_{1}(1-P_{1})}+ c }{\\sqrt{P_{1}(1-P_{1})}})$"
      ],
      "metadata": {
        "id": "gtpGi3OeoGRg"
      }
    },
    {
      "cell_type": "markdown",
      "source": [
        "$\\textbf{Lower One-sided hypothesis test}$:\n",
        "\n",
        "$\\begin{cases}\n",
        "H_{0}: p \\geq P_{0}\\\\\n",
        "H_{1}: p < P_{0}\\\\\n",
        "\\end{cases}$\n",
        "\n",
        "Power = $\\varPhi(\\frac{\\sqrt{n}(P_{0}-P_{1}) - z_{α}\\sqrt{P_{1}(1-P_{1})} - c}{\\sqrt{P_{1}(1-P_{1})}})$"
      ],
      "metadata": {
        "id": "ZmFA6yJjoa3R"
      }
    },
    {
      "cell_type": "markdown",
      "source": [
        "$\\textbf{Upper One-sided hypothesis test}$:\n",
        "\n",
        "$\\begin{cases}\n",
        "H_{0}: p \\leq P_{0}\\\\\n",
        "H_{1}: p > P_{0}\\\\\n",
        "\\end{cases}$\n",
        "\n",
        "Power = $1 - \\varPhi(\\frac{\\sqrt{n}(P_{0}-P_{1}) + z_{α}\\sqrt{P_{1}(1-P_{1})}+c}{\\sqrt{P_{1}(1-P_{1})}})$"
      ],
      "metadata": {
        "id": "uZDJMc4kobRA"
      }
    },
    {
      "cell_type": "markdown",
      "source": [
        "### $\\textbf{Confidence Intervals}$"
      ],
      "metadata": {
        "id": "jXPDPDKl0pCf"
      }
    },
    {
      "cell_type": "markdown",
      "source": [
        "#### $\\textbf{Direct calculation}$"
      ],
      "metadata": {
        "id": "D-CF7cIO0sIr"
      }
    },
    {
      "cell_type": "markdown",
      "source": [
        "$LCL = \\frac{XF_{[\\alpha/2],[2X,2(n-X+1)]}}{(n-X+1) + XF_{[\\alpha/2],[2X,2(n-X+1)]}}$\n",
        "\n",
        "$UCL = \\frac{(X+1)F_{[1-\\alpha/2],[2(X+1),2(n-X)]}}{(n-X) + (X+1)F_{[1-\\alpha/2],[2(X+1),2(n-X)]}}$\n",
        "\n",
        "$X$ - sucessful trials, $n$ - number of observations, $F$ - F distribution with $\\alpha$ confidence limit"
      ],
      "metadata": {
        "id": "PC3uMxYu1K56"
      }
    },
    {
      "cell_type": "markdown",
      "source": [
        "#### $\\textbf{Normal Approximation}$"
      ],
      "metadata": {
        "id": "cMZJEg2Z1LOU"
      }
    },
    {
      "cell_type": "markdown",
      "source": [
        "$CI = p \\pm z_{\\alpha/2}\\sqrt{\\frac{p(1-p)}{n}}$\n",
        "\n",
        "If a correction for continuity is added, the formula becomes\n",
        "$CI_{cc} = p \\pm (z_{\\alpha/2}\\sqrt{\\frac{p(1-p)}{n}} + \\frac{1}{2n})$\n",
        "\n",
        "$X$ - sucessful trials, $n$ - number of observations, $p$  = $\\frac{X}{n}$"
      ],
      "metadata": {
        "id": "ZrQkWpkD1Poe"
      }
    },
    {
      "cell_type": "markdown",
      "source": [
        "#### $\\textbf{Wilson Score}$"
      ],
      "metadata": {
        "id": "CQLxcv3d1QLV"
      }
    },
    {
      "cell_type": "markdown",
      "source": [
        "$CI_{Wilson Score} = \\frac{(2np + z_{\\alpha/2}^2) \\pm z_{\\alpha/2}\\sqrt{z_{\\alpha/2}^2 + 4np(1-p)}}{2(n+z_{\\alpha/2}^2)}$\n",
        "\n",
        "$X$ - sucessful trials, $n$ - number of observations, $p$  = $\\frac{X}{n}$"
      ],
      "metadata": {
        "id": "KmVXveEQ1U9B"
      }
    },
    {
      "cell_type": "markdown",
      "source": [
        "## $\\textbf{TOST (Two One-Sided Tests)}$"
      ],
      "metadata": {
        "id": "ZrbTr8xM41yn"
      }
    },
    {
      "cell_type": "markdown",
      "source": [
        "source: https://www.ncss.com/wp-content/themes/ncss/pdf/Procedures/NCSS/One_Proportion-Equivalence_Tests.pdf"
      ],
      "metadata": {
        "id": "CKDce1uI82MJ"
      }
    },
    {
      "cell_type": "markdown",
      "source": [
        "$\\textbf{Two one-sided tests (TOST)}$ approach is used to test equivalence. The equivalence test\n",
        "essentially reverses the roles of the null and alternative hypothesis. Assume that $𝑃$ represents the\n",
        "population proportion of the response, $S$ is a standard reference proportion, and $M$ is the so-called margin of equivalence. The null and alternative hypotheses are\n",
        "\n",
        "$H_{0}: P<S-M$ or $P>S+M$\n",
        "$H_{1}: S-M < P < S+M$\n",
        "\n",
        "The null hypothesis is made up of two simple one-sided hypotheses:\n",
        "\n",
        "$H_{01}: P<S - M$\n",
        "\n",
        "$H_{02}: P>S+M$\n",
        "\n",
        "If both of these one-sided tests are rejected, we conclude $𝐻_{1}$ that the response is equivalent to the standard proportion (their difference is confined within a small margin).\n",
        "$\\textbf{If we want the $\\alpha$ level of the equivalence test to be α, then each of the one-sided tests should be α as well (not α/2)}$"
      ],
      "metadata": {
        "id": "0iYcxtrW5EK-"
      }
    },
    {
      "cell_type": "markdown",
      "source": [
        "### $\\textbf{TOST Statistics}$"
      ],
      "metadata": {
        "id": "HAm4ijxd6ua6"
      }
    },
    {
      "cell_type": "markdown",
      "source": [
        "#### $\\textbf{Large-sample z-test}$"
      ],
      "metadata": {
        "id": "8AAYxLKS64kN"
      }
    },
    {
      "cell_type": "markdown",
      "source": [
        "$z=\\frac{p-P_{0}}{\\sqrt{\\frac{P_{0}(1-P_{0})}{n}}}$\n",
        "\n",
        "$X$ - sucessful trials, $n$ - number of observations, $p$  = $\\frac{X}{n}, P_{0}$ - population proportion"
      ],
      "metadata": {
        "id": "z3PHKF-K7Vua"
      }
    },
    {
      "cell_type": "markdown",
      "source": [
        "#### $\\textbf{Approximations}$"
      ],
      "metadata": {
        "id": "z3BtQY7I7WG2"
      }
    },
    {
      "cell_type": "markdown",
      "source": [
        "1. $z_{c} =\\frac{X+0.5-nP_{0}}{\\sqrt{nP_{0}(1-P_{0})}}$ if $X <nP_{0}$\n",
        "\n",
        "2. $z_{c} =\\frac{X-0.5-nP_{0}}{\\sqrt{nP_{0}(1-P_{0})}}$ if $X >nP_{0}$\n",
        "\n",
        "1. $z_{c} =\\frac{X+0.5-nP_{0}}{\\sqrt{np(1-p)}}$ if $X <nP_{0}$\n",
        "\n",
        "2. $z_{c} =\\frac{X-0.5-nP_{0}}{\\sqrt{np(1-p)}}$ if $X >nP_{0}$\n",
        "\n",
        "\n",
        "$X$ - sucessful trials, $n$ - number of observations, $p$  = $\\frac{X}{n}, P_{0}$ - population proportion\n"
      ],
      "metadata": {
        "id": "6u2i9nTz77kz"
      }
    },
    {
      "cell_type": "markdown",
      "source": [
        "## $\\textbf{Two sample Proportion Test}$"
      ],
      "metadata": {
        "id": "3ZZwrSUbgt8T"
      }
    },
    {
      "cell_type": "markdown",
      "source": [
        "source: https://docs.yandex.ru/docs/view?tm=1701535735&tld=ru&lang=en&name=Tests_for_Two_Proportions.pdf&text=test%20for%20two%20portions&url=https%3A%2F%2Fwww.ncss.com%2Fwp-content%2Fthemes%2Fncss%2Fpdf%2FProcedures%2FPASS%2FTests_for_Two_Proportions.pdf&lr=121600&mime=pdf&l10n=ru&sign=849751adbc4cfd983d39e382b987d66c&keyno=0&serpParams=tm%3D1701535735%26tld%3Dru%26lang%3Den%26name%3DTests_for_Two_Proportions.pdf%26text%3Dtest%2Bfor%2Btwo%2Bportions%26url%3Dhttps%253A%2F%2Fwww.ncss.com%2Fwp-content%2Fthemes%2Fncss%2Fpdf%2FProcedures%2FPASS%2FTests_for_Two_Proportions.pdf%26lr%3D121600%26mime%3Dpdf%26l10n%3Dru%26sign%3D849751adbc4cfd983d39e382b987d66c%26keyno%3D0"
      ],
      "metadata": {
        "id": "jMk-9ftLg_lA"
      }
    },
    {
      "cell_type": "markdown",
      "source": [
        "$\\textbf{Purpose}$: We use this test to check if the proportion of $ treatment$ $group_1$ is the same as the proportion of $control$ $group_2$.\n",
        "\n",
        "$\\textbf{Assumptions}$:\n",
        "* Binomial distribution ($P(X_{i}) = const$, $P(\\bar{X_{i}}) = 1 - P(X_{i})$, $X_{i} \\in \\{0,1\\}$)\n",
        "\n",
        "$\\textbf{Required Data}$:\n",
        "\n",
        "* $p_{1}, p_{2}$ - Sample proportions number of successes.\n",
        "* $n_{1}, n_{2}$ - Sample sizes"
      ],
      "metadata": {
        "id": "gzEQzEUDhJKG"
      }
    },
    {
      "cell_type": "markdown",
      "source": [
        "$\\textbf{Technical Deatails}$:\n",
        "\n",
        "| Group | Success | Failure | Total |\n",
        "|----------|----------|----------|----------|\n",
        "| Treatment| $a$    | $c$  | $m$ |\n",
        "| Control  | $b$    | $d$   | $n$ |\n",
        "| Total    | $s$    | $f$   | $N$ |\n",
        "\n",
        "Alternative notation:\n",
        "\n",
        "| Group | Success | Failure | Total |\n",
        "|----------|----------|----------|----------|\n",
        "| Treatment| $x_{11}$    | $x_{12}$  | $n_{1}$ |\n",
        "| Control  | $x_{21}$    | $x_{22}$   | $n_{2}$ |\n",
        "| Total    | $m_{1}$    | $m_{2}$   | $N$ |\n",
        "\n",
        "The binomial proportions $p_{1}$ and $p_{2}$ are estimated from these data using the formulae\n",
        "\n",
        "$p_{1} = \\frac{a}{m} = \\frac{x_{11}}{n_{1}}$ and $p_{2} = \\frac{b}{n} = \\frac{x_{21}}{n_{2}}$"
      ],
      "metadata": {
        "id": "3X0I1V_WHdcM"
      }
    },
    {
      "cell_type": "markdown",
      "source": [
        "$\\textbf{Proportions}$ can be represented in following ways:\n",
        "1. $\\textbf{Exact values}$ ($p_{2}$ and $p_{1}$)\n",
        "2. $\\textbf{Difference}$ ( $\\delta$ = $p_{2} - p_{1}$)\n",
        "3. $\\textbf{Ratio}$ ($\\phi$ = $\\frac{p_{2}}{p_{1}}$)\n",
        "4. $\\textbf{Odds ratio}$ ($\\psi$ = $\\frac{O_{2}}{O_{1}}$=$\\frac{p_{2}/(1-p_{2})}{p_{1}/(1-p_{1})}$)"
      ],
      "metadata": {
        "id": "CXA-WMv4hJZO"
      }
    },
    {
      "cell_type": "markdown",
      "source": [
        "### $\\textbf{Hypothesis Tests}$"
      ],
      "metadata": {
        "id": "KqLdUi4Titsd"
      }
    },
    {
      "cell_type": "markdown",
      "source": [
        "Several statistical tests have been developed for testing the inequality of two proportions. For large samples,\n",
        "the powers of the various tests are about the same. However, for small samples, the differences in the\n",
        "powers can be quite large. Hence, it is important to base the power analysis on the test statistic that will be\n",
        "used to analyze the data. If you have not selected a test statistic, you may wish to determine which one\n",
        "offers the best power in your situation. No single test is the champion in every situation, so you must\n",
        "compare the powers of the various tests to determine which to use."
      ],
      "metadata": {
        "id": "B2jLGFLMiuAS"
      }
    },
    {
      "cell_type": "markdown",
      "source": [
        "#### $\\textbf{Difference}$"
      ],
      "metadata": {
        "id": "ATQCZfI8iuKT"
      }
    },
    {
      "cell_type": "markdown",
      "source": [
        "1. $H_{0}: p_{1} - p_{2} = 0$ versus $H_{1}: p_{1} - p_{2} \\neq 0$ (Two-tailed test)\n",
        "2. $H_{0}: p_{1} - p_{2} \\leq 0$ versus $H_{1}: p_{1} - p_{2} > 0$ (upper-tailed test)\n",
        "3. $H_{0}: p_{1} - p_{2} \\geq 0$ versus $H_{1}: p_{1} - p_{2} < 0$ (lower-tailed test)\n",
        "\n",
        "The traditional approach for testing these hypotheses: `Pearson chi-square test` for large samples, `Yates chi-square test` for intermediate sample sizes, and `Fisher Exact test` for small samples. However, these solution have begun been questioned. For example, based on exact enumeration, Upton (1982) and D’Agostino (1988) conclude that the `Fisher Exact test` and `Yates test` should never be used."
      ],
      "metadata": {
        "id": "56v1fKNxiuUQ"
      }
    },
    {
      "cell_type": "markdown",
      "source": [
        "#### $\\textbf{Ratio}$"
      ],
      "metadata": {
        "id": "WijncAsliucU"
      }
    },
    {
      "cell_type": "markdown",
      "source": [
        "The (risk) ratio, $\\phi = p_{1}/ p_{2}$, is often preferred to the difference when the baseline proportion is small (less\n",
        "than 0.1) or large (greater than 0.9) because it expresses the difference as a percentage rather than an\n",
        "amount. In this case, the hypothesized ratio of proportions, $\\phi_{0}$, is one. Three sets of statistical\n",
        "hypotheses can be formulated:\n",
        "\n",
        "1. $H_{0}: p_{1}/ p_{2} = \\phi_{0}$ versus $H_{1}: p_{1}/p_{2} \\neq \\phi_{0}$ (Two-tailed test)\n",
        "2. $H_{0}: p_{1}/p_{2} \\leq \\phi_{0}$ versus $H_{1}: p_{1}/p_{2} > \\phi_{0}$ (upper-tailed test)\n",
        "3. $H_{0}: p_{1}/p_{2} \\geq \\phi_{0}$ versus $H_{1}: p_{1}/p_{2} < \\phi_{0}$ (lower-tailed test)\n",
        "\n",
        "\n"
      ],
      "metadata": {
        "id": "7CeTYXTZ_DNd"
      }
    },
    {
      "cell_type": "markdown",
      "source": [
        "#### $\\textbf{Odds Ratio}$"
      ],
      "metadata": {
        "id": "1saQmW3__D2y"
      }
    },
    {
      "cell_type": "markdown",
      "source": [
        "The odds ratio, $\\psi$ = $\\frac{O_{2}}{O_{1}}$=$\\frac{p_{2}/(1-p_{2})}{p_{1}/(1-p_{1})}$\n",
        ", is sometimes used to compare the two proportions because of its statistical properties and because some experimental designs require its use. In this case, the\n",
        "hypothesized odds ratio,ψ 0 0, is one. Three sets of statistical hypotheses can be formulated:\n",
        "\n",
        "1. $H_{0}: \\psi = \\psi_{0}$ versus $H_{1}: \\psi \\neq \\psi_{0}$ (Two-tailed test)\n",
        "2. $H_{0}: \\psi \\leq \\psi_{0}$ versus $H_{1}: \\psi > \\psi_{0}$ (upper-tailed test)\n",
        "3. $H_{0}: \\psi \\geq \\psi_{0}$ versus $H_{1}: \\psi < \\psi_{0}$ (lower-tailed test)"
      ],
      "metadata": {
        "id": "ssGBoEHm_yD6"
      }
    },
    {
      "cell_type": "markdown",
      "source": [
        "### $\\textbf{Power Calculation}$\n",
        "\n"
      ],
      "metadata": {
        "id": "so338-XjSX5T"
      }
    },
    {
      "cell_type": "markdown",
      "source": [
        "The power for a test statistic that is based on the normal approximation can be computed exactly using two\n",
        "binomial distributions. The following steps are taken to compute the power of such a test.\n",
        "\n",
        "1. Find the critical value (or values in the case of a two-sided test) using the standard normal distribution.\n",
        "The critical value, , is that value of $z$ that leaves exactly the target value of $\\alpha$ in the\n",
        "appropriate tail of the normal distribution. For example, for an upper-tailed test with a target $\\alpha$ of 0.05, the critical value is 1.645.\n",
        "\n",
        "2. Compute the value of the test statistic,$z_{t}$, for every combination of $x_{11}$ and $x_{21}$ Note that $x_{11}$ ranges  from 0 to $n_{1}$, and $x_{21}$ ranges from 0 to $n_{2}$ A small value (around 0.0001) can be added to the zero cell counts to avoid numerical problems that occur when the cell value is zero.\n",
        "\n",
        "3. If $z_{t} > z_{critical}$, the combination is in the rejection region. Call all combinations of $x_{11}$ and $x_{21}$ that lead to a rejection the set A.\n",
        "\n",
        "4. Compute the power for given values of $p_{1}$ and $p_{2}$ as\n",
        "\n",
        "$1-\\beta =  \\displaystyle\\sum_{A}\n",
        "    \\left(\\!\n",
        "    \\begin{array}{c}\n",
        "      n_{1} \\\\\n",
        "      x_{11}\n",
        "    \\end{array}\n",
        "  \\!\\right) p_{1}^{x_{11}}q_{1}^{n_{1}-x_{11}}\n",
        "  \\left(\\!\n",
        "    \\begin{array}{c}\n",
        "      n_{2} \\\\\n",
        "      x_{21}\n",
        "    \\end{array}\n",
        "  \\!\\right) p_{2}^{x_{21}}q_{2}^{n_{2}-x_{21}}$\n",
        "\n",
        "5. Compute the actual value of $\\alpha$ achieved by the design by substituting $p_{2}$ for $p_{1}$ to obtain\n",
        "\n",
        "$\\alpha* = \\displaystyle\\sum_{A}\n",
        "  \\left(\\!\n",
        "    \\begin{array}{c}\n",
        "      n_{1} \\\\\n",
        "      x_{11}\n",
        "    \\end{array}\n",
        "  \\!\\right) p_{2}^{x_{11}}q_{2}^{n_{1}-x_{11}}\n",
        "  \\left(\\!\n",
        "    \\begin{array}{c}\n",
        "      n_{2} \\\\\n",
        "      x_{21}\n",
        "    \\end{array}\n",
        "  \\!\\right) p_{2}^{x_{21}}q_{2}^{n_{2}-x_{21}} =\n",
        "  \\displaystyle\\sum_{A}\n",
        "  \\left(\\!\n",
        "    \\begin{array}{c}\n",
        "      n_{1} \\\\\n",
        "      x_{11}\n",
        "    \\end{array}\n",
        "  \\!\\right)\n",
        "  \\left(\\!\n",
        "    \\begin{array}{c}\n",
        "      n_{2} \\\\\n",
        "      x_{21}\n",
        "    \\end{array}\n",
        "  \\!\\right) p_{2}^{x_{11}+x_{21}}q_{2}^{n_{1} +n_{2}-x_{11} - x_{21}}$\n",
        "\n",
        "When the values of $n_{1}$ and $n_{2}$ are large (say over 200), these formulas may take a little time to evaluate. In\n",
        "this case, a large sample approximation may be used.\n",
        "\n"
      ],
      "metadata": {
        "id": "8iA-4oFdSeYW"
      }
    },
    {
      "cell_type": "markdown",
      "source": [
        "### $\\textbf{Test Statistics}$"
      ],
      "metadata": {
        "id": "k92PSBabA45j"
      }
    },
    {
      "cell_type": "markdown",
      "source": [
        "#### $\\textbf{Fisher's Exact Test}$"
      ],
      "metadata": {
        "id": "_cihb0_rBxck"
      }
    },
    {
      "cell_type": "markdown",
      "source": [
        "$\\textbf{Test statistic}$\n",
        "\n",
        "$T = -\\ln \\left[\\frac{\\left(\\!\n",
        "    \\begin{array}{c}\n",
        "      n_{1} \\\\\n",
        "      x_{1}\n",
        "    \\end{array}\n",
        "  \\!\\right)\n",
        "  \\left(\\!\n",
        "    \\begin{array}{c}\n",
        "      n_{2} \\\\\n",
        "      x_{2}\n",
        "    \\end{array}\n",
        "  \\!\\right)}\n",
        "  {\\left(\\!\n",
        "    \\begin{array}{c}\n",
        "      N \\\\\n",
        "      m\n",
        "    \\end{array}\n",
        "  \\!\\right)} \\right]$"
      ],
      "metadata": {
        "id": "ZANGQBDyB5Jz"
      }
    },
    {
      "cell_type": "markdown",
      "source": [
        "The distribution of $T$ is based on the hypergeometric distribution. It is given by\n",
        "\n",
        " $Pr(T \\geq t|m,H_{0}) = \\displaystyle\\sum_{A(m)} \\left[\\frac{\\left(\\!\n",
        "    \\begin{array}{c}\n",
        "      n_{1} \\\\\n",
        "      x_{1}\n",
        "    \\end{array}\n",
        "  \\!\\right)\n",
        "  \\left(\\!\n",
        "    \\begin{array}{c}\n",
        "      n_{2} \\\\\n",
        "      x_{2}\n",
        "    \\end{array}\n",
        "  \\!\\right)}\n",
        "  {\\left(\\!\n",
        "    \\begin{array}{c}\n",
        "      N \\\\\n",
        "      m\n",
        "    \\end{array}\n",
        "  \\!\\right)} \\right]$ where $A(m)$ = {all pairs $x_{1}, x_{2}$, such that $x_{1} + x_{2} = m$, given $T \\geq t$}"
      ],
      "metadata": {
        "id": "chATV7PhMGSL"
      }
    },
    {
      "cell_type": "markdown",
      "source": [
        "  Conditional on $m$, the $\\textbf{critical value, $t_{\\alpha}$}$, is the smallest value of t such that\n",
        "\n",
        "  $Pr(T \\geq t_{\\alpha}|m,H_{0}) \\leq \\alpha$"
      ],
      "metadata": {
        "id": "v8ugUhGuMKrF"
      }
    },
    {
      "cell_type": "markdown",
      "source": [
        " $\\textbf{Power}$  is defined as\n",
        "  $1 - \\beta = \\displaystyle\\sum_{m=0}^{N} P(m)Pr(T \\geq t_{\\alpha}|m,H_{1})$ where\n",
        "\n",
        "$Pr(T \\geq t_{\\alpha}|m,H_{1}) =  \\displaystyle\\sum_{A(m,T \\geq t_{\\alpha})} \\left[\\frac{b(x_{1},n_{1},p_{1})b(x_{2},n_{2},p_{2})}{\\sum_{A(m)}b(x_{1},n_{1},p_{1})b(x_{2},n_{2},p_{2})} \\right]$\n",
        "\n",
        "$P(m) = Pr(x_{1} + x_{2} = m|H_{1}) = b(x_{1},n_{1},p_{1})b(x_{2},n_{2},p_{2})$\n",
        "\n",
        "$b(x,n,p) = \\left(\\!\n",
        "    \\begin{array}{c}\n",
        "      n \\\\\n",
        "      x\n",
        "    \\end{array}\n",
        "  \\!\\right) p^{x}(1-p)^{n-x}$\n",
        "\n",
        "When the normal approximation is used to compute power, the result is based on the pooled, continuity\n",
        "corrected Z test."
      ],
      "metadata": {
        "id": "aW5uEoM8MPVU"
      }
    },
    {
      "cell_type": "markdown",
      "source": [
        "#### $\\textbf{Z Test\n",
        " (or Chi-Square Test) (Pooled and Unpooled)}$"
      ],
      "metadata": {
        "id": "WeE9i6uDB5Yk"
      }
    },
    {
      "cell_type": "markdown",
      "source": [
        "This test statistic was first proposed by Karl Pearson in 1900 Although this test is usually expressed directly\n",
        "as a Chi-Square statistic, it is expressed here as a z statistic so that it can be more easily used for one-sided\n",
        "hypothesis testing.\n",
        "\n",
        "Both *pooled* and *unpooled* versions of this test have been discussed in statistical literature. The pooling\n",
        "refers to the way in which the standard error is estimated. In the pooled version, the two proportions are\n",
        "averaged, and only one proportion is used to estimate the standard error. In the unpooled version, the two\n",
        "proportions are used separately."
      ],
      "metadata": {
        "id": "F2SSebi2B6Jj"
      }
    },
    {
      "cell_type": "markdown",
      "source": [
        "$\\textbf{Test statistic}$\n",
        "\n",
        "$z_{t} = \\frac{p_{1} - p_{2}}{\\delta_{D}}$\n",
        "\n",
        "$\\textbf{Pooled Version}$\n",
        "\n",
        "$\\delta_{D} = \\sqrt{p(1-p)(\\frac{1}{n_{1}} + \\frac{1}{n_{2}})}$\n",
        "\n",
        "$p = \\frac{n_{1}p_{1} + n_{2}p_{2}}{n_{1} + n_{2}}$\n",
        "\n",
        "$\\textbf{Unpooled Version}$\n",
        "\n",
        "$\\delta_{D} = \\sqrt{\\frac{p_{1}(1-p_{1})}{n_{1}} + \\frac{p_{2}(1-p_{2})}{n_{2}}}$"
      ],
      "metadata": {
        "id": "7RLJCcMGJvLI"
      }
    },
    {
      "cell_type": "markdown",
      "source": [
        "$\\textbf{Power}$  \n",
        "\n",
        "The power of this test is computed using the enumeration procedure described above. For large sample\n",
        "sizes, the following approximation is used:\n",
        "\n",
        "1. Find the critical value (or values in the case of a two-sided test) using the standard normal distribution. The critical value is that value of z that leaves exactly the target value of alpha in the tail.\n",
        "\n",
        "2. Use the normal approximation to binomial distribution to compute binomial probabilities, compute\n",
        "the power for the pooled and unpooled tests, respectively, using\n",
        "\n",
        "<b>Pooled</b>: $1 - \\beta = Pr(Z < \\frac{z_{\\alpha}\\delta_{D,p}+(p_{1}-p_{2})}{\\delta_{D,u}})$ <b>Unpooled</b>: $1 - \\beta = Pr(Z < \\frac{z_{\\alpha}\\delta_{D,u}+(p_{1}-p_{2})}{\\delta_{D,u}})$\n",
        "\n",
        "where\n",
        "\n",
        "$\\delta_{D,u} = \\sqrt{\\frac{p_{1}(1-p_{1})}{n_{1}} + \\frac{p_{2}(1-p_{2})}{n_{2}}}$ (unpooled SE)\n",
        "\n",
        "$\\delta_{D,p} = \\sqrt{\\bar{p}\\bar{q}(\\frac{1}{n_{1}} + \\frac{1}{n_{2}})}$ with $\\bar{p} = \\frac{n_{1}p_{1}+n_{2}p_{2}}{n_{1}+n_{2}}, \\bar{q} = 1-\\bar{p}$(unpooled SE)"
      ],
      "metadata": {
        "id": "uiDBABmdMTgf"
      }
    },
    {
      "cell_type": "markdown",
      "source": [
        "#### $\\textbf{Z Test\n",
        " (or Chi-Square Test) with Continuity Correction (Pooled and Unpooled)}$"
      ],
      "metadata": {
        "id": "20tnV41pB6Yf"
      }
    },
    {
      "cell_type": "markdown",
      "source": [
        "$\\textbf{Test statistic}$\n",
        "\n",
        "$z = \\frac{(p_{1} - p_{2})+\\frac{F}{2}(\\frac{1}{n_{1}} + \\frac{1}{n_{2}})}{\\delta_{D}}$ where F is -1 for lower-tailed, 1 for upper-tailed, and both -1 and 1 for two-sided hypotheses.\n",
        "\n",
        "$\\textbf{Pooled Version}$\n",
        "\n",
        "$\\delta_{D} = \\sqrt{p(1-p)(\\frac{1}{n_{1}} + \\frac{1}{n_{2}})}$\n",
        "\n",
        "$p = \\frac{n_{1}p_{1} + n_{2}p_{2}}{n_{1} + n_{2}}$\n",
        "\n",
        "$\\textbf{Unpooled Version}$\n",
        "\n",
        "$\\delta_{D} = \\sqrt{\\frac{p_{1}(1-p_{1})}{n_{1}} + \\frac{p_{2}(1-p_{2})}{n_{2}}}$"
      ],
      "metadata": {
        "id": "LQHzozi2B7Id"
      }
    },
    {
      "cell_type": "markdown",
      "source": [
        "$\\textbf{Power}$\n",
        "\n",
        "The power of this test is computed using the enumeration procedure described for the $z-test$ above. For large samples, approximate results based on the normal approximation to the binomial are used."
      ],
      "metadata": {
        "id": "4e3S-6F5SEiR"
      }
    },
    {
      "cell_type": "markdown",
      "source": [
        "#### $\\textbf{Conditional Mantel-Haenszel Test}$"
      ],
      "metadata": {
        "id": "nS1657qOB7Ww"
      }
    },
    {
      "cell_type": "markdown",
      "source": [
        "$\\textbf{Test statistic}$\n",
        "\n",
        "$z = \\frac{x_{11} - E(x_{11})}{\\sqrt{V_{c}(x_{11})}}$ where $E(x_{11}) = \\frac{n_{1}m_{1}}{N}$, $V_{c}(x_{11}) = \\frac{n_{1}n_{2}m_{1}m_{2}}{N^{2}(N-1)}$"
      ],
      "metadata": {
        "id": "zYWuln-ZPL4S"
      }
    },
    {
      "cell_type": "markdown",
      "source": [
        "$\\textbf{Power}$\n",
        "\n",
        "The power of this test is computed using the enumeration procedure described above."
      ],
      "metadata": {
        "id": "WQzFvbBlR_TW"
      }
    },
    {
      "cell_type": "markdown",
      "source": [
        "#### $\\textbf{Likelihood Ratio Test}$"
      ],
      "metadata": {
        "id": "viPgVb_RPMkl"
      }
    },
    {
      "cell_type": "markdown",
      "source": [
        "$\\textbf{Test statistic}$\n",
        "\n",
        "$LR = 2\\left[a\\ln(a) + b\\ln(b) + c\\ln(c) + d\\ln(d) + N\\ln(N) - s\\ln(s) - f\\ln(f) - m\\ln(m) - n\\ln(n)\\right]$"
      ],
      "metadata": {
        "id": "sEWRFPJzPN6b"
      }
    },
    {
      "cell_type": "markdown",
      "source": [
        "$\\textbf{Power}$\n",
        "\n",
        "The power of this test is computed using the enumeration procedure described above. When large sample\n",
        "results are needed, the results for the $z$ test are used."
      ],
      "metadata": {
        "id": "3_ErCoK-R1OF"
      }
    },
    {
      "cell_type": "markdown",
      "source": [
        "#### $\\textbf{T-Test}$"
      ],
      "metadata": {
        "id": "dSmUVD8RRITk"
      }
    },
    {
      "cell_type": "markdown",
      "source": [
        "$\\textbf{Test statistic}$\n",
        "\n",
        "$t_{N-2} = (ad-bc)(\\frac{N-2}{N(nac+mbd)})^{\\frac{1}{2}}$ ($t$ distribution with $N-2$ degrees of freedom.)"
      ],
      "metadata": {
        "id": "Ppgnce20RSpb"
      }
    },
    {
      "cell_type": "markdown",
      "source": [
        "$\\textbf{Power}$\n",
        "\n",
        "The power of this test is computed using the enumeration procedure described above, except that the t\n",
        "tables are used instead of the standard normal tables."
      ],
      "metadata": {
        "id": "i2LFVG1MRr6a"
      }
    },
    {
      "cell_type": "markdown",
      "source": [
        "### $\\textbf{Confidence Intervals}$"
      ],
      "metadata": {
        "id": "LFHgGF98wqDl"
      }
    },
    {
      "cell_type": "markdown",
      "source": [
        "$CI = p_{1}-p_{2} \\pm z_{1 - \\alpha/2}\\sqrt{\\frac{p_{1}(1-p_{1})}{n_{1}} + \\frac{p_{2}(1-p_{2})}{n_{2}}}$"
      ],
      "metadata": {
        "id": "ePKDheKrwuqu"
      }
    },
    {
      "cell_type": "markdown",
      "source": [
        "## $\\textbf{Sample Size Calculation}$"
      ],
      "metadata": {
        "id": "M999x3qr4KHh"
      }
    },
    {
      "cell_type": "markdown",
      "source": [
        "souces: https://colab.research.google.com/drive/10DkHtLXsRHYSB7f5LMV5h5WW__uTcNHE?usp=sharing#scrollTo=PCJDTvlOeMy5, https://www.statskingdom.com/50_ci_sample_size.html"
      ],
      "metadata": {
        "id": "PKkGvi_xGIo5"
      }
    },
    {
      "cell_type": "markdown",
      "source": [
        "$\\textbf{Total number of observations}$:\n",
        "\n",
        "  * One-sided test:\n",
        "$n \\approx\n",
        "\\left[\n",
        "\\frac{\\sigma(z_{\\beta} + z_{\\alpha})}\n",
        "{\\mu_0-\\mu}\n",
        "\\right]^2$\n",
        "\n",
        "  * Two-tailed test:\n",
        "$n \\approx\n",
        "\\left[\n",
        "\\frac{\\sigma(z_{\\beta} + z_{\\alpha/2})}\n",
        "{\\mu_0-\\mu}\n",
        "\\right]^2$\n",
        "\n",
        "\n",
        "$\\textbf{Number of observations per group with inequal sizes}$:\n",
        "\n",
        "$m_{large} = \\frac{(z_{1-\\alpha/2}\\sqrt{\\bar{p}\\bar{q}(r+1)} + z_{\\beta}\\sqrt{rp_{1}q_{1}+p_{2}q_{2}})^{2}}{r(p_{1}-p_{2})^{2}}$ where $r$ - ratio, $\\bar{p} = \\frac{p_{1} + rp_{2}}{r+1}, \\bar{q} = 1 - \\bar{p}$\n",
        "\n",
        "\n",
        "$m_{small} =  r*m_{large}$"
      ],
      "metadata": {
        "id": "pPz-Z3_a4y36"
      }
    },
    {
      "cell_type": "markdown",
      "source": [
        "## $\\textbf{Practice}$:"
      ],
      "metadata": {
        "id": "vP04JsSw3LkR"
      }
    },
    {
      "cell_type": "markdown",
      "source": [
        "source: https://bytepawn.com/ab-testing-and-the-ztest.html"
      ],
      "metadata": {
        "id": "yhUCSKfKBa1T"
      }
    },
    {
      "cell_type": "markdown",
      "source": [
        "#### Lib import"
      ],
      "metadata": {
        "id": "vWwlXkn13ih5"
      }
    },
    {
      "cell_type": "code",
      "source": [
        "import numpy as np\n",
        "from random import random\n",
        "import math\n",
        "from scipy.stats import norm\n",
        "import scipy\n",
        "import hashlib\n",
        "from statsmodels.stats.proportion import proportions_ztest, proportion_confint,confint_proportions_2indep"
      ],
      "metadata": {
        "id": "w3hio7I83aYz"
      },
      "execution_count": null,
      "outputs": []
    },
    {
      "cell_type": "markdown",
      "source": [
        "#### Comparison"
      ],
      "metadata": {
        "id": "7ybC4Fgk4kXk"
      }
    },
    {
      "cell_type": "markdown",
      "source": [
        "$\\textbf{Task}$: Let’s pretend we’re running an A/B test on funnel conversion. A is the current, B is the new version of the funnel. We want to know whether B is better. By looking at our funnel dashboard, we know that A is historically converting around 9-11%"
      ],
      "metadata": {
        "id": "iySYilgv5DEe"
      }
    },
    {
      "cell_type": "markdown",
      "source": [
        "1. Formulate hypotheses:\n",
        "\n",
        "  B has higher conversion than A, meaning we're doing a one-sided test.\n",
        "\n",
        "  $\\begin{cases}\n",
        "  H_{0}: CR = 0.10\\\\\n",
        "  H_{1}: CR > 0.10\\\\\n",
        "  \\end{cases}$\n",
        "\n",
        "2. We will set an $\\alpha$ at level 0.05, and ($1 - \\beta$) at 0.80.This means we're okay with 10% false positives and we will capture 80% of improvements."
      ],
      "metadata": {
        "id": "0lY6sgDP5qyB"
      }
    },
    {
      "cell_type": "markdown",
      "source": [
        "$\\textbf{Step 3.}$ Figure out how many samples we need to collect, given the historic conversion, traffic split, alpha and the kind of lift we’re looking.\n",
        "\n",
        "We will write custom function, counting the total number of observations, for the purpose\n"
      ],
      "metadata": {
        "id": "SEtyE7m6cwxI"
      }
    },
    {
      "cell_type": "code",
      "source": [
        "# #from stats example\n",
        "# import statsmodels.stats.api as sms\n",
        "# es = sms.proportion_effectsize(p1, p2)\n",
        "# round(sms.NormalIndPower().solve_power(es, power=0.80, alpha=0.05, ratio=1))\n",
        "\n",
        "def alpha_to_z(alpha, one_sided):\n",
        "    if one_sided:\n",
        "        pos = 1 - alpha\n",
        "    else:\n",
        "        pos = 1 - alpha/2.0\n",
        "    return norm.ppf(pos)\n",
        "\n",
        "def power_to_z(power):\n",
        "    pos = power\n",
        "    return norm.ppf(pos)\n",
        "\n",
        "def num_samples(alpha, mu_A, mu_delta, traffic_ratio_A, power=0.50, one_sided=True):\n",
        "    z_alpha = alpha_to_z(alpha, one_sided)\n",
        "    z_power  = power_to_z(power)\n",
        "    mu_B = mu_A + mu_delta\n",
        "    traffic_ratio_B = 1 - traffic_ratio_A\n",
        "    N = ( mu_A*(1-mu_A)/traffic_ratio_A + mu_B*(1-mu_B)/traffic_ratio_B ) * ((z_alpha+z_power)**2) / (mu_A - mu_B)**2\n",
        "    return math.ceil(N)"
      ],
      "metadata": {
        "id": "2CsZ3ghBc_DE"
      },
      "execution_count": null,
      "outputs": []
    },
    {
      "cell_type": "markdown",
      "source": [
        "$\\textbf{Step 4.}$ Create a random seed for the A/B test and save it server-side. We generate a new seed for each A/B test. Let’s say we generate the string for this one: `OkMdZa18pfr8m5sy2IL52pW9ol2EpLekgakJAIZFBbgZ`"
      ],
      "metadata": {
        "id": "cZNLvjYYcxA4"
      }
    },
    {
      "cell_type": "markdown",
      "source": [
        "$\\textbf{Step 5.}$ Perform test by splitting users randomly between A and B according to the above proportions. Users coming, identified by a user_id (or cookie_id), should be put in the same funnel. We can accomplish this by hashing the test_id, where test_id = seed + user_id:"
      ],
      "metadata": {
        "id": "PrtVwCG0ciCl"
      }
    },
    {
      "cell_type": "code",
      "source": [
        "test_seed = 'OkMdZa18pfr8m5sy2IL52pW9ol2EpLekgakJAIZFBbgZ'\n",
        "\n",
        "def funnel_user(base_traffic_split, test_seed, user_id):\n",
        "    test_id = hashlib.md5(test_seed.encode('ascii') + str(user_id).encode('ascii')).hexdigest()\n",
        "    bits = bin(int(test_id, 16))[3:]\n",
        "    r = sum([int(bit)*(0.5**(i+1)) for i, bit in enumerate(bits)])\n",
        "    if r < base_traffic_split:\n",
        "        return 'A'\n",
        "    else:\n",
        "        return 'B'"
      ],
      "metadata": {
        "id": "lzONbJP4VQ6V"
      },
      "execution_count": null,
      "outputs": []
    },
    {
      "cell_type": "markdown",
      "source": [
        "$\\textbf{Step 6.}$ Run the test. We're simulating the real-world here, so we will have to pick the actual conversions for A and B. This is not known to the test, this is what it's trying to estimate, so we call this a hidden variable:\n",
        "\n"
      ],
      "metadata": {
        "id": "sCBaB8kpdNaO"
      }
    },
    {
      "cell_type": "code",
      "source": [
        "hidden_conversion_params = {'A': 0.105, 'B': 0.115 }\n",
        "\n",
        "def run_test(N, hidden_conversion_params, funnel_user_func):\n",
        "    test_outcomes = {'A': {'N': 0, 'conversions': 0}, 'B': {'N': 0, 'conversions': 0}}\n",
        "    for user_id in range(N):\n",
        "        which_funnel = funnel_user_func(user_id) # returns 'A' or 'B'\n",
        "        test_outcomes[which_funnel]['N'] += 1\n",
        "        if random() < hidden_conversion_params[which_funnel]:\n",
        "            test_outcomes[which_funnel]['conversions'] += 1\n",
        "    return test_outcomes"
      ],
      "metadata": {
        "id": "-2yiMn9-VaqB"
      },
      "execution_count": null,
      "outputs": []
    },
    {
      "cell_type": "markdown",
      "source": [
        "$\\textbf{Step 7.}$ Compute the p-value and compare it with the $\\alpha$ we set to decide whether to accept or reject B. Additionaly calculate confidence intervals.\n",
        "\n",
        "we will count both one-sample and two-sample test for the purpose of ptratice.Indeed, two-sample test should be picked."
      ],
      "metadata": {
        "id": "dzQwkULgdXy5"
      }
    },
    {
      "cell_type": "code",
      "source": [
        "def calculate_continuous_term(baseline_portion,prop_portion,nobs):\n",
        "  if abs(baseline_portion - prop_portion) < 1/(2*nobs):\n",
        "    c = 0\n",
        "  elif baseline_portion > prop_portion:\n",
        "    c = -1 / (2 * nobs)\n",
        "  else:\n",
        "    c = 1 / (2 * nobs)\n",
        "\n",
        "  return c\n",
        "\n",
        "def calculate__one_sample_z_statistics(nobs,count,value,se_formula='p0', alternative = 'two-sided'):\n",
        "\n",
        "  nominator = (count/nobs - value)\n",
        "  if se_formula == 'p0':\n",
        "    se = np.sqrt(1/nobs * value * (1-value))\n",
        "  elif se_formula == 'p':\n",
        "    se = np.sqrt(1/nobs * count/nobs * (1-count/nobs))\n",
        "  elif se_formula == 'p0_cont':\n",
        "    c = calculate_continuous_term(count/nobs,value,nobs)\n",
        "    se = np.sqrt(1/nobs * (value * (1-value) + c))\n",
        "  else:\n",
        "    c = calculate_continuous_term(count/nobs,value,nobs)\n",
        "    se = np.sqrt(1/nobs * (count/nobs * (1-count/nobs) + c))\n",
        "\n",
        "  z = nominator / se\n",
        "\n",
        "  if alternative == 'two-sided':\n",
        "    p = scipy.stats.norm.sf(abs(z)) * 2\n",
        "  elif alternative == 'smaller':\n",
        "    if count/nobs < value:\n",
        "      p = scipy.stats.norm.sf(abs(z))\n",
        "    else:\n",
        "      p = 1 - scipy.stats.norm.sf(abs(z))\n",
        "\n",
        "  else:\n",
        "    if count/nobs > value:\n",
        "      p = scipy.stats.norm.sf(abs(z))\n",
        "    else:\n",
        "      p = 1 - scipy.stats.norm.sf(abs(z))\n",
        "\n",
        "  return z,p\n",
        "\n",
        "\n",
        "def calculate_two_sample_z_statistics(x1, n1, x2, n2, one_sided=False):\n",
        "    p1 = x1/n1\n",
        "    p2 = x2/n2\n",
        "\n",
        "    p = (x1+x2)/(n1+n2)\n",
        "    se = p*(1-p)*(1/n1+1/n2)\n",
        "    se = np.sqrt(se)\n",
        "\n",
        "    z = (p1-p2)/se\n",
        "    p = 1-scipy.stats.norm.cdf(abs(z))\n",
        "    p *= 2-one_sided # if not one_sided: p *= 2\n",
        "    return z, p\n",
        "\n",
        "def compute_standard_error_prop_two_samples(x1, n1, x2, n2, alpha=0.05):\n",
        "    p1 = x1/n1\n",
        "    p2 = x2/n2\n",
        "    se = p1*(1-p1)/n1 + p2*(1-p2)/n2\n",
        "    return np.sqrt(se)\n",
        "\n",
        "def zconf_interval_two_samples(x1, n1, x2, n2, alpha=0.05):\n",
        "    p1 = x1/n1\n",
        "    p2 = x2/n2\n",
        "    se = compute_standard_error_prop_two_samples(x1, n1, x2, n2)\n",
        "    z_critical = stats.norm.ppf(1- 0.5 * alpha)\n",
        "    return p2-p1-z_critical*se, p2-p1+z_critical*se\n",
        "\n",
        "def zconf_interval_one_sample(X,n,alpha=0.05):\n",
        "  p = X/n\n",
        "  se = np.sqrt(p * (1-p) * 1/n)\n",
        "  z_critical = stats.norm.ppf(1 - 0.5 * alpha)\n",
        "\n",
        "  return p - z_critical * se, p + z_critical * se"
      ],
      "metadata": {
        "id": "9B5n8ZMUdYEK"
      },
      "execution_count": null,
      "outputs": []
    },
    {
      "cell_type": "markdown",
      "source": [
        "$\\textbf{Step 8.}$ Run the experiment"
      ],
      "metadata": {
        "id": "YePm8Qb2dYSU"
      }
    },
    {
      "cell_type": "code",
      "source": [
        "alpha = 0.05\n",
        "power = 0.80\n",
        "base_conversion = 0.10\n",
        "valuable_diff = 0.01\n",
        "base_traffic_split = 0.8\n",
        "\n",
        "N_required = num_samples(\n",
        "    alpha=alpha,\n",
        "    mu_A=base_conversion,\n",
        "    mu_delta=valuable_diff,\n",
        "    traffic_ratio_A=base_traffic_split,\n",
        "    power=power,\n",
        ")\n",
        "\n",
        "# hidden_conversion_params is how our funnels actually perform:\n",
        "# the difference between the two is what we're trying to establish\n",
        "# with statistical confidence, using an A/B test\n",
        "hidden_conversion_params = {'A': 0.105, 'B': 0.115 }\n",
        "test_seed = 'OkMdZa18pfr8m5sy2IL52pW9ol2EpLekgakJAIZFBbgZ'\n",
        "test_outcomes = run_test(\n",
        "    N_required,\n",
        "    hidden_conversion_params,\n",
        "    lambda user_id: funnel_user(base_traffic_split, test_seed, user_id),\n",
        ")\n",
        "\n",
        "mu_A = test_outcomes['A']['conversions'] / test_outcomes['A']['N']\n",
        "mu_B = test_outcomes['B']['conversions'] / test_outcomes['B']['N']\n",
        "\n",
        "print(f\"Measured conversion for A: {np.round(mu_A,3)} with the group size {test_outcomes['A']['N']}\")\n",
        "print(f\"Measured conversion for B: {np.round(mu_B,3)} with the group size {test_outcomes['B']['N']}\")\n",
        "\n",
        "print('-'*50,'\\nOne Sample Tests')\n",
        "z,p = proportions_ztest(test_outcomes['B']['conversions'], test_outcomes['B']['N'], base_conversion,alternative='larger')\n",
        "z1,p1 = calculate__one_sample_z_statistics(test_outcomes['B']['N'], test_outcomes['B']['conversions'], base_conversion, se_formula='p',alternative='larger')\n",
        "\n",
        "lci,rci = zconf_interval_one_sample(count[1], nobs[1], alpha=alpha)\n",
        "lci1,rci1 = proportion_confint(count[1], nobs[1], alpha=alpha, method='normal')\n",
        "\n",
        "print(f'Stats function: z-score- {np.round(z,5)}, p_val- {np.round(p,5)}\\nCustom function: z-score- {np.round(z1,5)}, p_val- {np.round(p1,5)}')\n",
        "print(f'Stats: The {100* (1-alpha)}% CR in treatment group lies between {lci1 * 100} and {rci1 * 100}\\nCustom: The {100* (1-alpha)}% CR in treatment group lies between {lci * 100} and {rci * 100}')\n",
        "print('-'*50,'\\nTwo Sample Tests')\n",
        "\n",
        "count = np.array([test_outcomes['A']['conversions'],test_outcomes['B']['conversions']])\n",
        "nobs = np.array([test_outcomes['A']['N'], test_outcomes['B']['N']])\n",
        "\n",
        "z,p = proportions_ztest(count,nobs, alternative='smaller')\n",
        "z1,p1 = calculate_two_sample_z_statistics(count[0], nobs[0], count[1], nobs[1], one_sided=True)\n",
        "\n",
        "ci_low,ci_upp = zconf_interval_two_samples(count[0], nobs[0], count[1], nobs[1])\n",
        "ci_low1,ci_upp1 = confint_proportions_2indep(count[1], nobs[1], count[0], nobs[0], compare='diff', alpha=0.05)\n",
        "\n",
        "\n",
        "print(f'Stats function: z-score- {np.round(z,5)}, p_val- {np.round(p,5)}\\nCustom function: z-score- {np.round(z1,5)}, p_val- {np.round(p1,5)}')\n",
        "print(f'Stats: The {100* (1-alpha)}% difference in CR between groups lies between {ci_low1 * 100} and {ci_upp1 * 100}\\nCustom: The {100* (1-alpha)}% difference in CR between groups lies between {ci_low * 100} and {ci_upp * 100}')\n",
        "print('-'*50)\n",
        "\n",
        "\n",
        "if p1 <= alpha:\n",
        "    print(\"\"\"Final decision: Reject Null hypotheses -> Action: B is better\"\"\")\n",
        "else:\n",
        "    print(\"\"\"Final decision:: Not enough evidence for rejecting Null hypothesis -> We're not sure if B is better than A\"\"\")"
      ],
      "metadata": {
        "colab": {
          "base_uri": "https://localhost:8080/"
        },
        "id": "woMIM-u6dYeT",
        "outputId": "d3ebe74a-1e08-456a-846c-ca8663f48fe3"
      },
      "execution_count": null,
      "outputs": [
        {
          "output_type": "stream",
          "name": "stdout",
          "text": [
            "Measured conversion for A: 0.105 with the group size 29756\n",
            "Measured conversion for B: 0.113 with the group size 7463\n",
            "-------------------------------------------------- \n",
            "One Sample Tests\n",
            "Stats function: z-score- 3.64029, p_val- 0.00014\n",
            "Custom function: z-score- 3.64029, p_val- 0.00014\n",
            "Stats: The 95.0% CR in treatment group lies between 11.216300926780152 and 12.688295080187556\n",
            "Custom: The 95.0% CR in treatment group lies between 11.216300926780152 and 12.688295080187556\n",
            "-------------------------------------------------- \n",
            "Two Sample Tests\n",
            "Stats function: z-score- -2.14683, p_val- 0.0159\n",
            "Custom function: z-score- -2.14683, p_val- 0.0159\n",
            "Stats: The 95.0% difference in CR between groups lies between 0.07381586948251115 and 1.6722786605542228\n",
            "Custom: The 95.0% difference in CR between groups lies between 0.05833105267325604 and 1.6563988375300727\n",
            "--------------------------------------------------\n",
            "Final decision: Reject Null hypotheses -> Action: B is better\n"
          ]
        }
      ]
    }
  ]
}